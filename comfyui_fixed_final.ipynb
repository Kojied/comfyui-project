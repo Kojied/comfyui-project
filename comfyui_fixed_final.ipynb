{
  "cells": [
    {
      "cell_type": "markdown",
      "metadata": {},
      "source": [
        "# \ud83e\udd8d ComfyUI Gorilla Generator - FIXED\n",
        "No ngrok auth issues!"
      ]
    },
    {
      "cell_type": "code",
      "execution_count": null,
      "metadata": {},
      "outputs": [],
      "source": [
        "# Install ComfyUI\n",
        "!pip install requests\n",
        "!git clone https://github.com/comfyanonymous/ComfyUI.git\n",
        "!cd ComfyUI && pip install -r requirements.txt"
      ]
    },
    {
      "cell_type": "code",
      "execution_count": null,
      "metadata": {},
      "outputs": [],
      "source": [
        "# Download FLUX models\n",
        "!cd ComfyUI && python download_flux_models.py"
      ]
    },
    {
      "cell_type": "code",
      "execution_count": null,
      "metadata": {},
      "outputs": [],
      "source": [
        "# Start ComfyUI with localtunnel (NO AUTH REQUIRED)\n",
        "!pip install localtunnel\n",
        "\n",
        "import threading\n",
        "import subprocess\n",
        "import time\n",
        "\n",
        "# Start ComfyUI\n",
        "def start_comfyui():\n",
        "    subprocess.run([\"python\", \"main.py\", \"--listen\", \"0.0.0.0\", \"--port\", \"8188\"], cwd=\"ComfyUI\")\n",
        "\n",
        "comfyui_thread = threading.Thread(target=start_comfyui)\n",
        "comfyui_thread.daemon = True\n",
        "comfyui_thread.start()\n",
        "time.sleep(30)\n",
        "print(\"\u2705 ComfyUI started!\")\n",
        "\n",
        "# Start localtunnel\n",
        "tunnel_process = subprocess.Popen([\"npx\", \"localtunnel\", \"--port\", \"8188\"], \n",
        "                                   stdout=subprocess.PIPE, \n",
        "                                   stderr=subprocess.PIPE, \n",
        "                                   text=True)\n",
        "\n",
        "time.sleep(5)\n",
        "print(\"\ud83c\udf10 Tunnel starting... Look for URL above\")\n",
        "print(\"\ud83d\udccb Look for a URL like: https://xxxxx.loca.lt\")"
      ]
    }
  ],
  "metadata": {
    "colab": {
      "provenance": []
    },
    "kernelspec": {
      "name": "python3",
      "display_name": "Python 3"
    },
    "language_info": {
      "name": "python"
    }
  },
  "nbformat": 4,
  "nbformat_minor": 0
}