{
  "cells": [
    {
      "cell_type": "markdown",
      "metadata": {},
      "source": [
        "\n"
      ]
    },
    {
      "cell_type": "markdown",
      "metadata": {},
      "source": [
        "\n"
      ]
    },
    {
      "cell_type": "code",
      "execution_count": null,
      "metadata": {},
      "outputs": [],
      "source": []
    },
    {
      "cell_type": "markdown",
      "metadata": {},
      "source": [
        "# 🦍 ComfyUI Gorilla Generator\n",
        "Access ComfyUI GUI directly in your browser!"
      ]
    },
    {
      "cell_type": "code",
      "execution_count": null,
      "metadata": {},
      "outputs": [],
      "source": [
        "# Install ComfyUI\n",
        "!pip install requests\n",
        "!git clone https://github.com/comfyanonymous/ComfyUI.git\n",
        "!cd ComfyUI && pip install -r requirements.txt"
      ]
    },
    {
      "cell_type": "code",
      "execution_count": null,
      "metadata": {},
      "outputs": [],
      "source": [
        "# Download FLUX models\n",
        "!cd ComfyUI && python download_flux_models.py"
      ]
    },
    {
      "cell_type": "code",
      "execution_count": null,
      "metadata": {},
      "outputs": [],
      "source": [
        "# Complete ComfyUI + Pinggy Setup (Fixed Order)\n",
        "# 1. Install system dependencies first\n",
        "!apt-get update\n",
        "!apt-get install -y wget aria2 libgl1-mesa-glx\n",
        "\n",
        "# 2. Install Pinggy package\n",
        "!pip install pinggy\n",
        "\n",
        "# 3. NOW import pinggy (after installation)\n",
        "import pinggy\n",
        "\n",
        "# 4. Create tunnel BEFORE starting ComfyUI\n",
        "tunnel1 = pinggy.start_tunnel(forwardto=\"localhost:8188\")\n",
        "print(f\"🌐 ComfyUI will be accessible at: {tunnel1.urls}\")\n",
        "\n",
        "# 5. Start ComfyUI server\n",
        "!python main.py --listen 0.0.0.0"
      ]
    },
    {
      "cell_type": "code",
      "execution_count": null,
      "metadata": {},
      "outputs": [],
      "source": [
        "# Debug and Logging Setup\n",
        "import logging\n",
        "import sys\n",
        "import subprocess\n",
        "import time\n",
        "from datetime import datetime\n",
        "\n",
        "# Set up comprehensive logging\n",
        "logging.basicConfig(\n",
        "    level=logging.DEBUG,\n",
        "    format='%(asctime)s - %(levelname)s - %(message)s',\n",
        "    handlers=[\n",
        "        logging.StreamHandler(sys.stdout),\n",
        "        logging.FileHandler('comfyui_debug.log')\n",
        "    ]\n",
        ")\n",
        "\n",
        "def log_command(cmd, description=\"\"):\n",
        "    \"\"\"Run a command and log its output\"\"\"\n",
        "    logging.info(f\"Running: {cmd} - {description}\")\n",
        "    try:\n",
        "        result = subprocess.run(cmd, shell=True, capture_output=True, text=True, timeout=300)\n",
        "        logging.info(f\"Exit code: {result.returncode}\")\n",
        "        if result.stdout:\n",
        "            logging.info(f\"STDOUT: {result.stdout}\")\n",
        "        if result.stderr:\n",
        "            logging.error(f\"STDERR: {result.stderr}\")\n",
        "        return result\n",
        "    except subprocess.TimeoutExpired:\n",
        "        logging.error(f\"Command timed out: {cmd}\")\n",
        "        return None\n",
        "    except Exception as e:\n",
        "        logging.error(f\"Command failed: {cmd} - Error: {e}\")\n",
        "        return None\n",
        "\n",
        "# Log system info\n",
        "logging.info(\"=== ComfyUI Debug Session Started ===\")\n",
        "logging.info(f\"Timestamp: {datetime.now()}\")\n",
        "logging.info(f\"Python version: {sys.version}\")\n",
        "\n",
        "# Check GPU availability\n",
        "gpu_check = log_command(\"nvidia-smi\", \"Check GPU availability\")\n",
        "if gpu_check and gpu_check.returncode == 0:\n",
        "    logging.info(\"✅ GPU detected\")\n",
        "else:\n",
        "    logging.error(\"❌ GPU not detected or nvidia-smi failed\")\n",
        "\n",
        "# Check if ComfyUI directory exists\n",
        "comfyui_check = log_command(\"ls -la ComfyUI/\", \"Check ComfyUI directory\")\n",
        "if comfyui_check and comfyui_check.returncode == 0:\n",
        "    logging.info(\"✅ ComfyUI directory found\")\n",
        "else:\n",
        "    logging.error(\"❌ ComfyUI directory not found\")\n",
        "\n",
        "print(\"🔍 Debug logging enabled. Check 'comfyui_debug.log' for detailed logs.\")\n"
      ]
    }
  ],
  "metadata": {
    "colab": {
      "provenance": []
    },
    "kernelspec": {
      "display_name": "Python 3",
      "name": "python3"
    },
    "language_info": {
      "name": "python"
    }
  },
  "nbformat": 4,
  "nbformat_minor": 0
}
