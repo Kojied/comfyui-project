{
  "cells": [
    {
      "cell_type": "markdown",
      "metadata": {},
      "source": [
        "# \ud83e\udd8d ComfyUI Gorilla Generator\n",
        "Generate gorilla playing squash images!"
      ]
    },
    {
      "cell_type": "code",
      "execution_count": null,
      "metadata": {},
      "outputs": [],
      "source": [
        "# Install ComfyUI\n",
        "!pip install requests\n",
        "!git clone https://github.com/comfyanonymous/ComfyUI.git\n",
        "!cd ComfyUI && pip install -r requirements.txt"
      ]
    },
    {
      "cell_type": "code",
      "execution_count": null,
      "metadata": {},
      "outputs": [],
      "source": [
        "# Download FLUX models\n",
        "!cd ComfyUI && python download_flux_models.py"
      ]
    },
    {
      "cell_type": "code",
      "execution_count": null,
      "metadata": {},
      "outputs": [],
      "source": [
        "# Start ComfyUI with Colab tunneling\n",
        "import threading\n",
        "import subprocess\n",
        "import time\n",
        "import requests\n",
        "\n",
        "# Start ComfyUI\n",
        "def start_comfyui():\n",
        "    subprocess.run([\"python\", \"main.py\", \"--listen\", \"0.0.0.0\", \"--port\", \"8188\"], cwd=\"ComfyUI\")\n",
        "\n",
        "comfyui_thread = threading.Thread(target=start_comfyui)\n",
        "comfyui_thread.daemon = True\n",
        "comfyui_thread.start()\n",
        "time.sleep(30)\n",
        "print(\"\u2705 ComfyUI started!\")\n",
        "print(\"\ud83c\udf10 ComfyUI is running on port 8188\")\n",
        "print(\"\ud83d\udccb Use Colab's port forwarding to access the GUI:\")\n",
        "print(\"1. Click the 'Connect' button in Colab's top right\")\n",
        "print(\"2. Select 'Change runtime type'\")\n",
        "print(\"3. Enable 'Port forwarding'\")\n",
        "print(\"4. Access ComfyUI at the forwarded URL\")"
      ]
    },
    {
      "cell_type": "code",
      "execution_count": null,
      "metadata": {},
      "outputs": [],
      "source": [
        "# Alternative: Use localtunnel (no auth required)\n",
        "!pip install localtunnel\n",
        "\n",
        "import subprocess\n",
        "import time\n",
        "\n",
        "# Start localtunnel\n",
        "tunnel_process = subprocess.Popen([\"npx\", \"localtunnel\", \"--port\", \"8188\"], \n",
        "                                   stdout=subprocess.PIPE, \n",
        "                                   stderr=subprocess.PIPE, \n",
        "                                   text=True)\n",
        "\n",
        "time.sleep(5)\n",
        "\n",
        "# Get the tunnel URL\n",
        "try:\n",
        "    stdout, stderr = tunnel_process.communicate(timeout=10)\n",
        "    if stdout:\n",
        "        print(f\"\ud83c\udf10 ComfyUI GUI: {stdout.strip()}\")\n",
        "        print(f\"\ud83d\udccb Open this URL: {stdout.strip()}\")\n",
        "    else:\n",
        "        print(\"\u26a0\ufe0f  Tunnel starting... Check output above for URL\")\n",
        "except:\n",
        "    print(\"\ud83c\udf10 Tunnel is starting... Check the output above for the URL\")\n",
        "    print(\"\ud83d\udccb Look for a URL like: https://xxxxx.loca.lt\")"
      ]
    }
  ],
  "metadata": {
    "colab": {
      "provenance": []
    },
    "kernelspec": {
      "name": "python3",
      "display_name": "Python 3"
    },
    "language_info": {
      "name": "python"
    }
  },
  "nbformat": 4,
  "nbformat_minor": 0
}