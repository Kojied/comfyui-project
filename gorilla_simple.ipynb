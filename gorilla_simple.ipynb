{
  "cells": [
    {
      "cell_type": "markdown",
      "metadata": {},
      "source": [
        "# \ud83e\udd8d ComfyUI Gorilla Image Generator\n",
        "Access ComfyUI GUI directly in your browser!"
      ]
    },
    {
      "cell_type": "code",
      "execution_count": null,
      "metadata": {},
      "outputs": [],
      "source": [
        "# Install dependencies\n",
        "!pip install pyngrok requests\n",
        "!git clone https://github.com/comfyanonymous/ComfyUI.git\n",
        "!cd ComfyUI && pip install -r requirements.txt"
      ]
    },
    {
      "cell_type": "code",
      "execution_count": null,
      "metadata": {},
      "outputs": [],
      "source": [
        "# Download FLUX models\n",
        "!cd ComfyUI && python download_flux_models.py"
      ]
    },
    {
      "cell_type": "code",
      "execution_count": null,
      "metadata": {},
      "outputs": [],
      "source": [
        "# Setup ngrok tunnel\n",
        "from pyngrok import ngrok\n",
        "import threading\n",
        "import subprocess\n",
        "import time\n",
        "\n",
        "tunnel = ngrok.connect(8188)\n",
        "ngrok_url = tunnel.public_url\n",
        "print(f\"\ud83c\udf10 ComfyUI GUI: {ngrok_url}\")\n",
        "print(f\"\ud83d\udccb Open this URL: {ngrok_url}\")"
      ]
    },
    {
      "cell_type": "code",
      "execution_count": null,
      "metadata": {},
      "outputs": [],
      "source": [
        "# Start ComfyUI\n",
        "def start_comfyui():\n",
        "    subprocess.run([\"python\", \"main.py\", \"--listen\", \"0.0.0.0\", \"--port\", \"8188\"], cwd=\"ComfyUI\")\n",
        "\n",
        "comfyui_thread = threading.Thread(target=start_comfyui)\n",
        "comfyui_thread.daemon = True\n",
        "comfyui_thread.start()\n",
        "time.sleep(30)\n",
        "print(\"\u2705 ComfyUI started!\")\n",
        "print(f\"\ud83c\udf10 Access at: {ngrok_url}\")"
      ]
    }
  ],
  "metadata": {
    "colab": {
      "provenance": []
    },
    "kernelspec": {
      "name": "python3",
      "display_name": "Python 3"
    },
    "language_info": {
      "name": "python"
    }
  },
  "nbformat": 4,
  "nbformat_minor": 0
}