{
  "cells": [
    {
      "cell_type": "markdown",
      "metadata": {},
      "source": [
        "# 🦍 ComfyUI Gorilla Image Generator\n",
        "Access ComfyUI GUI directly in your browser!"
      ]
    },
    {
      "cell_type": "code",
      "execution_count": null,
      "metadata": {},
      "outputs": [],
      "source": [
        "# Install dependencies\n",
        "!pip install pyngrok requests\n",
        "!git clone https://github.com/comfyanonymous/ComfyUI.git\n",
        "!cd ComfyUI && pip install -r requirements.txt\n",
        "\n",
        "print('✅ Dependencies installed')"
      ]
    },
    {
      "cell_type": "code",
      "execution_count": null,
      "metadata": {},
      "outputs": [],
      "source": [
        "# Download FLUX models\n",
        "!cd ComfyUI && python download_flux_models.py\n",
        "\n",
        "print('✅ FLUX models downloaded')"
      ]
    },
    {
      "cell_type": "code",
      "execution_count": null,
      "metadata": {},
      "outputs": [],
      "source": [
        "# Setup ngrok tunnel for GUI access\n",
        "from pyngrok import ngrok\n",
        "import threading\n",
        "import subprocess\n",
        "import time\n",
        "import webbrowser\n",
        "\n",
        "# Create ngrok tunnel\n",
        "tunnel = ngrok.connect(8188)\n",
        "ngrok_url = tunnel.public_url\n",
        "\n",
        "print(f'🌐 ComfyUI GUI accessible at: {ngrok_url}')\n",
        "print(f'📋 Open this URL in your browser: {ngrok_url}')\n",
        "print('\n🦍 Ready to generate gorilla images!')"
      ]
    },
    {
      "cell_type": "code",
      "execution_count": null,
      "metadata": {},
      "outputs": [],
      "source": [
        "# Start ComfyUI with GUI\n",
        "def start_comfyui():\n",
        "    subprocess.run(['python', 'main.py', '--listen', '0.0.0.0', '--port', '8188'], cwd='ComfyUI')\n",
        "\n",
        "# Start ComfyUI in background\n",
        "comfyui_thread = threading.Thread(target=start_comfyui)\n",
        "comfyui_thread.daemon = True\n",
        "comfyui_thread.start()\n",
        "\n",
        "# Wait for startup\n",
        "time.sleep(30)\n",
        "print('✅ ComfyUI started!')\n",
        "print(f'🌐 GUI Access: {ngrok_url}')\n",
        "print('\n📝 Open the URL above in your browser to use ComfyUI!')\n",
        "print('🦍 Load the gorilla workflow and generate images!')"
      ]
    },
    {
      "cell_type": "code",
      "execution_count": null,
      "metadata": {},
      "outputs": [],
      "source": [
        "# Keep notebook running\n",
        "import time\n",
        "while True:\n",
        "    time.sleep(60)\n",
        "    print(f'⏰ Still running... {time.strftime("%H:%M:%S")}')\n",
        "    print(f'🌐 ComfyUI GUI: {ngrok_url}')"
      ]
    }
  ],
  "metadata": {
    "colab": {
      "provenance": []
    },
    "kernelspec": {
      "name": "python3",
      "display_name": "Python 3"
    },
    "language_info": {
      "name": "python"
    }
  },
  "nbformat": 4,
  "nbformat_minor": 0
}